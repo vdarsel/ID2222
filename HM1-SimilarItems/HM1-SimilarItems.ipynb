{
 "cells": [
  {
   "cell_type": "markdown",
   "id": "4f72eb22",
   "metadata": {},
   "source": [
    "# Introduction\n",
    "\n",
    "In this homework, we have worked with a dataset found on [UC Irvine Machine Learning Repository's website](https://archive-beta.ics.uci.edu/) and is composed of 1000 sports articles. [[Link]](https://archive.ics.uci.edu/ml/machine-learning-databases/00450/)\n",
    "\n",
    "# Instructions\n",
    "\n",
    "To test our algorithms, you first need to download the data used for this work and unzip it in a folder called \"Data\" that is placed at the same position as this notebook. Otherwise, you can change the variable <code>dir_path</code> in the case below [Import data](#Import-data) to make it convinient for your usage. \n",
    "<br>\n",
    "<br>\n",
    "When you have collected the data, you only need to run this notebook to test our algorithms. The different libraries used are <code>numpy</code>, <code>time</code>, <code>plotly</code>, <code>pandas</code> and <code>os</code>. So you have to install them on your environment before launching the program.\n",
    "\n",
    "# Technical report\n",
    "The different steps of our work are : \n",
    "<ul>\n",
    "    <li><u>Importation and save of data :</u> We have collected the data in a list <code>tab_data</code>. Each item of the list correspond to a different article. <a href=\"#Import-data\"> [Link]</a></li>\n",
    "    <li><u>Implementation of the shingling function :</u>For the shingling funciton, we have picked all chains of <code>k=10</code> characters and then used a native hash function of Python for strings, in order to collect a set of shinglings for each item of <code>tab_data</code>.<a href=\"#Shingling-function\"> [Link]</a></li>\n",
    "    <li><u>Implementation of the similarity function :</u> Since we have computed sets in the previous step, it is easy to compute the similarity function. Indeed, it is easy to compute the union of two sets (and we can infer the size of the intersection with it). <u>Useful propriety:</u> $|A \\cap B| + |A \\cup B| = |A| + |B|$ <a href=\"#Compare-Sets\"> [Link]</a> </li>\n",
    "    <li><u>Implementation of the MinHashing function :</u> First, we have to create a map of the shinglings to numerote them. To do so, we have computed a dictionary <code>dict_sh_to_int</code> which has shinglings as keys and integers in $ ⟦ 0;N_{\\#_{Shingling}}-1 ⟧$ and its reversed dictionnary <code>dict_int_to_sh</code>. Then two methods have been tried:\n",
    "        <ul>\n",
    "            <li><u>Method 1 :</u> Computation of a characteristic matrix for each shingling in each matrix. this require to build a matrix, mainly composed of zeros, of dimensions $ N_{\\#_{Shingling}} \\times N_{\\#_{Articles}}$. This method works for a small amount of data but the memory was too small when we have computed it with the whole dataset.</li>\n",
    "            <li><u>Method 2 :</u> Directly build the MinHashing matrix by looking directly in the sets of shinglings of each article. We have used <code>n=100</code> hashed functions. These functions are simply permutations of $ ⟦ 0;N_{\\#_{Shingling}}-1 ⟧$ and we can associate this permutation to a \"permutation\" of shinglings through <code>dict_int_to_sh</code>. Thus, we look for the first shingling of each set according to the order of each permutation. This result is saved in the matrix <code>matrix_hashed_2</code> (each row correpond to an article) of size  $ N_{\\#_{Articles}} \\times n$.</li>\n",
    "        </ul>\n",
    "     Finally, we have computed the matrix <code>matrix_hashed_2</code> that gives the MinHashing values. <a href=\"#MinHashing\">[Link]</a></li>\n",
    "    <li><u>Implementation of the signature comparison function :</u> it's simply count the number of times, the value given by the signatures is the same for both parameters. Divided by <code>n</code>, we have got the proportion of common signatures. <a href=\"#CompareSignature\"> [Link]</a> </li>\n",
    "    <li><u>Implementation of the LSH model :</u> We have computed a class for LSH. It is composed of :\n",
    "        <ul>\n",
    "            <li>number of rows <code>b</code></li>\n",
    "            <li>length of a row <code>r</code></li>\n",
    "            <li>estimation of threshold <code>s</code> where $s=\\left(\\frac{1}{b}\\right)^{\\frac{1}{r}}$</li>\n",
    "        self.matrix = np.zeros((n,self.b))\n",
    "            <li>large prime number for the hashed function <code>N</code></li>\n",
    "            <li>matrix <code>random_tab</code> of size $b \\times (r+1)$ of random numbers which are the coefficient for the hashing function</li>\n",
    "            <li>matrix <code>matrix</code> of size $N_{\\#_{Articles}} \\times b$ which stored the hashed value of the signature of each band of each vector (initialiazed at 0)</li>\n",
    "        </ul>\n",
    "        The second step after the initialisation is to fill <code>matrix</code>. To do so, we inspect every vectors of signature <code>full_LSH_matrix</code>, we cut it in bands as the paramaters are intiated <code>__LocalitySensitiveHashing</code>, and we hash everyone with <code>__hash_naive</code>.\n",
    "        <br>\n",
    "        The last step is to compute the similarity. It is done by the function <code>find_similarity</code> that compares the values of <code>matrix</code> between the rows. <a href=\"#LSH\"> [Link]</a>\n",
    "    </li>\n",
    "</ul>"
   ]
  },
  {
   "cell_type": "markdown",
   "id": "a467134c",
   "metadata": {},
   "source": [
    "# Performances\n",
    "\n",
    "## Performance of the model $k=10, n=100, b=20, r=5$\n",
    "We have reported the time of computation of the different step in this model.\n",
    "<table>\n",
    "    <tr>\n",
    "        <th>Step</th>\n",
    "        <th>Computation time (in sec)</th>\n",
    "    </tr>\n",
    "    <tr>\n",
    "        <td>Generation of the shinglings</td>\n",
    "        <td>2.4</td>\n",
    "    </tr>\n",
    "    <tr>\n",
    "        <td>Comparison of all set of shinglings</td>\n",
    "        <td>175</td>\n",
    "    </tr>\n",
    "    <tr>\n",
    "        <td>Creation of a set of all shinglings</td>\n",
    "        <td>80.0</td>\n",
    "    </tr>\n",
    "    <tr>\n",
    "        <td>Creation of a global dictionnary</td>\n",
    "        <td>0.8</td>\n",
    "    </tr>\n",
    "    <tr>\n",
    "        <td>Creation of the 100 permutions functions</td>\n",
    "        <td>10.4</td>\n",
    "    </tr>\n",
    "    <tr>\n",
    "        <td>Creation of the hashed matrix</td>\n",
    "        <td>79.2</td>\n",
    "    </tr>\n",
    "    <tr>\n",
    "        <td>Comparison of all signature values</td>\n",
    "        <td>20.1</td>\n",
    "    </tr>\n",
    "    <tr>\n",
    "        <td>Computation of LSH and find similar items</td>\n",
    "        <td>6.5</td>\n",
    "    </tr>\n",
    "</table>\n",
    "From this table, we can compare the time for the different models, that correpond to where we stop in the process.\n",
    "<table>\n",
    "    <tr>\n",
    "        <th>Model</th>\n",
    "        <th>Computation time (in sec)</th>\n",
    "    </tr>\n",
    "    <tr>\n",
    "        <td>Comparison of shinglings</td>\n",
    "        <td>177.4</td>\n",
    "    </tr>\n",
    "    <tr>\n",
    "        <td>Comparison of signatures</td>\n",
    "        <td>192.9</td>\n",
    "    </tr>\n",
    "    <tr>\n",
    "        <td>Comparison of LSH</td>\n",
    "        <td>179.3</td>\n",
    "    </tr>\n",
    "</table>\n",
    "This result goes against our goal (and intuition). Each further step adds approximation and it is interssant because it should run faster.  It is due to the duration of the step \"Creation of a set of all shinglings\". However, for a larger sample, it would be more efficient to do that.\n",
    "<br>\n",
    "We have put a threshold in the <code>LLSH_model</code> at 0.55. We have detected 12 similar items but one is a false positve and we have missed one item. These results are summarized in the following table.\n",
    "<table>\n",
    "    <tr>\n",
    "        <th></th>\n",
    "        <th scope=\"col\">True</th>\n",
    "        <th scope=\"col\">False</th>\n",
    "        <th scope=\"col\">Total</th>\n",
    "    </tr>\n",
    "    <tr>\n",
    "        <th scope=\"row\">Predicted True</th>\n",
    "        <td>11</td>\n",
    "        <td>1</td>\n",
    "        <td>12</td>\n",
    "    </tr>\n",
    "    <tr>\n",
    "        <th scope=\"row\">Predicted False</th>\n",
    "        <td>1</td>\n",
    "        <td>499487</td>\n",
    "        <td>499488</td>\n",
    "    </tr>\n",
    "    <tr>\n",
    "        <th scope=\"row\">Total</th>\n",
    "        <td>12</td>\n",
    "        <td>499488</td>\n",
    "        <td>499500</td>\n",
    "    </tr>\n",
    "</table>\n",
    "We have a $F_{score}=0.92$. That confirms that our results are relevant.\n",
    "\n",
    "## Comparison of the performance by modifying $k$\n",
    "To see the impact of $k$, we have computed the whole model by modifying the value of $k$ in $⟦5;14⟧$ without modifying the other parameters. The first thing that we have observed is that the computation time increases quickly and then stabilises from 11. \n",
    "![](Results/k_time.png)\n",
    "We were also interested in the results to see if there is a $k$ that is more relevant. And it seems that from $k=6$, that the number of found similar articles does almost not vary.\n",
    "![](Results/k_item.png)\n",
    "By grouping these two observations, it seems that the best $k$ that gives quick and relevant results is $k=6$."
   ]
  },
  {
   "cell_type": "code",
   "execution_count": 43,
   "id": "b3433b29",
   "metadata": {},
   "outputs": [],
   "source": [
    "import numpy as np\n",
    "import os\n",
    "import time"
   ]
  },
  {
   "cell_type": "code",
   "execution_count": 2,
   "id": "2850cd4f",
   "metadata": {},
   "outputs": [],
   "source": [
    "t_0 = time.time()"
   ]
  },
  {
   "cell_type": "markdown",
   "id": "1cc024d3",
   "metadata": {},
   "source": [
    "# Import data"
   ]
  },
  {
   "cell_type": "code",
   "execution_count": 3,
   "id": "9d16c01c",
   "metadata": {
    "scrolled": true
   },
   "outputs": [],
   "source": [
    "dir_path = \"Data/\"\n",
    "sample_size = 1000\n",
    "tab_data=[]\n",
    "for file_name in np.sort(os.listdir(dir_path)):\n",
    "    with open(dir_path+file_name, encoding=\"ansi\") as f:\n",
    "        tab_data.append(f.read())"
   ]
  },
  {
   "cell_type": "code",
   "execution_count": 4,
   "id": "99267f33",
   "metadata": {},
   "outputs": [
    {
     "name": "stdout",
     "output_type": "stream",
     "text": [
      "The average amount of characters of the articles are 3985.97\n"
     ]
    }
   ],
   "source": [
    "print(\"The average amount of characters of the articles are\",np.mean([len(a) for a in tab_data]))"
   ]
  },
  {
   "cell_type": "markdown",
   "id": "e1015d10",
   "metadata": {},
   "source": [
    "# Shingling function"
   ]
  },
  {
   "cell_type": "code",
   "execution_count": 5,
   "id": "f0a6c95d",
   "metadata": {},
   "outputs": [],
   "source": [
    "k=10"
   ]
  },
  {
   "cell_type": "code",
   "execution_count": 6,
   "id": "c2e244d4",
   "metadata": {},
   "outputs": [],
   "source": [
    "def shingling (str_doc, k):\n",
    "    res = set()\n",
    "    for i in range (len(str_doc)-k+1):\n",
    "        sample = str_doc[i:i+k]\n",
    "        hashed_sample = hash(sample)\n",
    "        res.add(hashed_sample)\n",
    "    return res\n",
    "\n",
    "def generate_tab_sh(tab_data, k):\n",
    "    tab_sh=[]\n",
    "    for data in tab_data:\n",
    "        tab_sh.append(shingling(data,k))\n",
    "    return tab_sh"
   ]
  },
  {
   "cell_type": "code",
   "execution_count": 85,
   "id": "8f2490e9",
   "metadata": {},
   "outputs": [
    {
     "name": "stdout",
     "output_type": "stream",
     "text": [
      "Generation of the shinglings\n",
      "Duration: 2.4 s\n"
     ]
    }
   ],
   "source": [
    "print(\"Generation of the shinglings\")\n",
    "t_begin = time.time()\n",
    "tab_sh = generate_tab_sh(tab_data, k)\n",
    "print(\"Duration:\", round(time.time()-t_begin,1),\"s\")"
   ]
  },
  {
   "cell_type": "markdown",
   "id": "88e49582",
   "metadata": {},
   "source": [
    "# Compare Sets"
   ]
  },
  {
   "cell_type": "code",
   "execution_count": 8,
   "id": "cc07ce82",
   "metadata": {},
   "outputs": [],
   "source": [
    "def CompareSets(set1,set2):\n",
    "    size_1, size_2, size_union = len(set1), len(set2), len(set1.union(set2)) # Cardinal (set1), Card(set2), Card(set1 u set2)\n",
    "    size_inter = size_1 + size_2 - size_union # Card(set1 n set 2) = Card(set1) + Card (set2) - Card(set1 u set 2)\n",
    "    return size_inter/size_union"
   ]
  },
  {
   "cell_type": "code",
   "execution_count": 109,
   "id": "c0064413",
   "metadata": {
    "scrolled": true
   },
   "outputs": [
    {
     "name": "stdout",
     "output_type": "stream",
     "text": [
      "Computation of all comparison value\n",
      "Duration: 175.0 s\n"
     ]
    }
   ],
   "source": [
    "print(\"Computation of all comparison value\")\n",
    "t_begin = time.time()\n",
    "Compare_set_values = []\n",
    "for i in range(len(tab_sh)):\n",
    "    for j in range(i):\n",
    "        Compare_set_values.append(CompareSets(tab_sh[i],tab_sh[j]))\n",
    "print(\"Duration:\", round(time.time()-t_begin,1),\"s\")"
   ]
  },
  {
   "cell_type": "code",
   "execution_count": 110,
   "id": "bb6f3cc1",
   "metadata": {},
   "outputs": [
    {
     "data": {
      "text/plain": [
       "array([0.58860898, 0.98469876, 1.        , 1.        , 0.66825596,\n",
       "       1.        , 0.6712404 , 0.64778053, 0.9080033 , 1.        ,\n",
       "       0.99714081, 0.9999127 ])"
      ]
     },
     "execution_count": 110,
     "metadata": {},
     "output_type": "execute_result"
    }
   ],
   "source": [
    "a = np.array(Compare_set_values)\n",
    "exp_res_sim = a[np.where(a>0.549)[0]]\n",
    "\n",
    "exp_res_sim"
   ]
  },
  {
   "cell_type": "markdown",
   "id": "5cefe3e8",
   "metadata": {},
   "source": [
    "# MinHashing"
   ]
  },
  {
   "cell_type": "markdown",
   "id": "9ae7994a",
   "metadata": {},
   "source": [
    "Creation of a dictionary to numerate the shingling from 0 to $N_{\\#_{Shingling}}-1$."
   ]
  },
  {
   "cell_type": "code",
   "execution_count": 18,
   "id": "70f24c6c",
   "metadata": {
    "scrolled": true
   },
   "outputs": [],
   "source": [
    "def preprocessing_MinHashing(tab_sh, printage=False):\n",
    "    if (printage):\n",
    "        print(\"Creation of a set of all shinglings\")\n",
    "    t_begin = time.time()\n",
    "    union_sh =set()\n",
    "    for sh in (tab_sh):\n",
    "        union_sh = union_sh.union(sh) #creation of a global set of all the values \n",
    "    if (printage):\n",
    "        print(\"Duration:\", round(time.time()-t_begin,1),\"s\")\n",
    "    t_begin = time.time()\n",
    "    if (printage):\n",
    "        print(\"Creation of a global dictionary\")\n",
    "    dict_int_to_sh={}\n",
    "    for i,hash_val in enumerate(list(union_sh)):\n",
    "        dict_int_to_sh[i]=hash_val  # creation of a dictionary in order to link each shingle to a unique row in the matrix\n",
    "    if (printage):\n",
    "        print(\"Duration:\", round(time.time()-t_begin,1),\"s\")\n",
    "    return union_sh,dict_int_to_sh"
   ]
  },
  {
   "cell_type": "code",
   "execution_count": 19,
   "id": "37e7efdd",
   "metadata": {},
   "outputs": [
    {
     "name": "stdout",
     "output_type": "stream",
     "text": [
      "Creation of a set of all shinglings\n",
      "Duration: 80.0 s\n",
      "Creation of a global dictionary\n",
      "Duration: 0.8 s\n"
     ]
    }
   ],
   "source": [
    "union_sh,dict_int_to_sh = preprocessing_MinHashing(tab_sh, printage=True)\n",
    "# dict_sh_to_int = {v: k for k, v in dict_sh_to_int.items()}"
   ]
  },
  {
   "cell_type": "markdown",
   "id": "62af7271",
   "metadata": {},
   "source": [
    "## Method 1 : With creation of characteristic matrix\n",
    "Issue : could be too heavy in memory"
   ]
  },
  {
   "cell_type": "markdown",
   "id": "d6321634",
   "metadata": {},
   "source": [
    "Creation of a Matrix (# of shinglings,# of article)\n",
    "```Python\n",
    "matrix = np.empty((len(union_sh), sample_size)) #creation of a well-sized matrix #too heavy in memory\n",
    "for i,sh in enumerate(tab_sh):\n",
    "    for hash_val in sh:\n",
    "        matrix[dict_sh_to_int[hash_val]][i]=1 # fulling of the matrix\n",
    "```"
   ]
  },
  {
   "cell_type": "markdown",
   "id": "d2332731",
   "metadata": {},
   "source": [
    "Generation of 100 permutations functions\n",
    "```Python\n",
    "n = 100\n",
    "tab_permutations =[]  #generation of n permutations of [0,1,....,N_sh-1] => equivalent to n hash functions\n",
    "for i in range(n):\n",
    "    tab_permutations.append(np.arange(len(union_sh)))\n",
    "    np.random.shuffle(tab_permutations[i])\n",
    "``` "
   ]
  },
  {
   "cell_type": "markdown",
   "id": "3a465388",
   "metadata": {},
   "source": [
    "Computation of hashed matrix\n",
    "```Python\n",
    "matrix_hashed = np.zeros((sample_size,n))\n",
    "for i in range(n):\n",
    "    for j in range(sample_size):\n",
    "        ind = 0\n",
    "        while (matrix[tab_permutations[i][dict_int]][j]==0):\n",
    "            ind+=1\n",
    "        matrix_hashed[j][i]=ind\n",
    "matrix_hashed\n",
    "```"
   ]
  },
  {
   "cell_type": "markdown",
   "id": "bcc9ce49",
   "metadata": {},
   "source": [
    "## Method 2 : Direct creation of the MinHashing matrix"
   ]
  },
  {
   "cell_type": "code",
   "execution_count": 20,
   "id": "b4d5f1eb",
   "metadata": {},
   "outputs": [],
   "source": [
    "n = 100"
   ]
  },
  {
   "cell_type": "code",
   "execution_count": 21,
   "id": "cc470bf8",
   "metadata": {},
   "outputs": [],
   "source": [
    "def MinHashing(tab_sh, printage=False):\n",
    "    global dict_int_to_sh\n",
    "    global union_sh\n",
    "    \n",
    "    t_begin = time.time()\n",
    "    if (printage):\n",
    "        print(\"Creation of the\",n, \"permutions functions\")\n",
    "    tab_permutations_2 =[]  #generation of n permutations of [0,1,....,N_sh-1] => equivalent to n hash functions\n",
    "    \n",
    "    for i in (range(n)):\n",
    "        tab_permutations_2.append(np.arange(len(union_sh)))\n",
    "        np.random.shuffle(tab_permutations_2[i])\n",
    "    if (printage):\n",
    "        print(\"Duration:\", round(time.time()-t_begin,1),\"s\")\n",
    "        \n",
    "    \n",
    "    t_begin = time.time()\n",
    "    if (printage):\n",
    "        print(\"Creation of the hashed matrix\")\n",
    "    matrix_hashed_2 = np.zeros((sample_size,n))\n",
    "    \n",
    "    for i in (range(n)):\n",
    "        for j,sh in enumerate(tab_sh):\n",
    "            ind = 0\n",
    "            while (dict_int_to_sh[tab_permutations_2[i][ind]] not in sh):\n",
    "                ind+=1\n",
    "            matrix_hashed_2[j][i]=ind\n",
    "    if (printage):\n",
    "        print(\"Duration:\", round(time.time()-t_begin,1),\"s\")\n",
    "        \n",
    "    return matrix_hashed_2"
   ]
  },
  {
   "cell_type": "code",
   "execution_count": 22,
   "id": "00d8d3e0",
   "metadata": {},
   "outputs": [
    {
     "name": "stdout",
     "output_type": "stream",
     "text": [
      "Creation of the 100 permutions functions\n",
      "Duration: 10.4 s\n",
      "Creation of the hashed matrix\n",
      "Duration: 79.2 s\n"
     ]
    }
   ],
   "source": [
    "matrix_hashed_2 = MinHashing(tab_sh, printage=True)"
   ]
  },
  {
   "cell_type": "markdown",
   "id": "22eecd8a",
   "metadata": {},
   "source": [
    "# CompareSignatures"
   ]
  },
  {
   "cell_type": "code",
   "execution_count": 23,
   "id": "d2e1aa50",
   "metadata": {},
   "outputs": [],
   "source": [
    "def CompareSignatures(mat_hashed,i,j):\n",
    "    '''Comparison between row i and j of the MinHashed matrix'''\n",
    "    similar = 0\n",
    "    for k,a in enumerate(mat_hashed[i]):\n",
    "        if (a==mat_hashed[j][k]):\n",
    "            similar+=1\n",
    "    return similar/len(mat_hashed[j])"
   ]
  },
  {
   "cell_type": "code",
   "execution_count": 24,
   "id": "2914b4d2",
   "metadata": {
    "scrolled": true
   },
   "outputs": [],
   "source": [
    "def list_comparision_signature(matrix_hashed):\n",
    "    compared_signature_values = []\n",
    "    print(\"Creation of comparison of signature values\")\n",
    "    t_begin = time.time()\n",
    "    for i in (range(sample_size)):\n",
    "        for j in range(i):\n",
    "            compared_signature_values.append(CompareSignatures(matrix_hashed,i,j))\n",
    "    print(\"Duration:\", round(time.time()-t_begin,1),\"s\")\n",
    "    return compared_signature_values"
   ]
  },
  {
   "cell_type": "code",
   "execution_count": 25,
   "id": "25b8084d",
   "metadata": {},
   "outputs": [
    {
     "name": "stdout",
     "output_type": "stream",
     "text": [
      "Creation of comparison of signature values\n",
      "Duration: 20.1 s\n"
     ]
    }
   ],
   "source": [
    "compared_signature_values = list_comparision_signature(matrix_hashed_2)"
   ]
  },
  {
   "cell_type": "code",
   "execution_count": 26,
   "id": "3f49491b",
   "metadata": {},
   "outputs": [
    {
     "data": {
      "text/plain": [
       "(array([0.  , 0.01, 0.02, 0.03, 0.04, 0.05, 0.06, 0.07, 0.08, 0.09, 0.1 ,\n",
       "        0.11, 0.12, 0.13, 0.14, 0.15, 0.16, 0.17, 0.19, 0.2 , 0.24, 0.25,\n",
       "        0.32, 0.41, 0.42, 0.47, 0.62, 0.66, 0.72, 0.75, 0.76, 0.91, 1.  ]),\n",
       " array([383021,  93197,  18226,   3514,    813,    326,    142,     72,\n",
       "            76,     30,     25,     11,      5,      8,      1,      4,\n",
       "             1,      2,      3,      2,      1,      1,      3,      1,\n",
       "             1,      1,      1,      1,      1,      1,      1,      1,\n",
       "             7], dtype=int64))"
      ]
     },
     "execution_count": 26,
     "metadata": {},
     "output_type": "execute_result"
    }
   ],
   "source": [
    "val, t, count = np.unique(compared_signature_values, return_index=True, return_counts=True)\n",
    "val,count"
   ]
  },
  {
   "cell_type": "markdown",
   "id": "b93ab51e",
   "metadata": {},
   "source": [
    "# LSH"
   ]
  },
  {
   "cell_type": "code",
   "execution_count": 91,
   "id": "2bc74c81",
   "metadata": {},
   "outputs": [],
   "source": [
    "class LSH:\n",
    "    def __init__(self,b,r,N=1e9, n_article = sample_size,print_s=False):\n",
    "        self.s = np.power(1/b,1/r)\n",
    "        self.b = b\n",
    "        self.r = r\n",
    "        self.N = N \n",
    "        self.random_tab = np.random.randint(1e6, size=(b,r+1))\n",
    "        self.matrix = np.zeros((n_article,self.b))\n",
    "        if (print_s):\n",
    "            print(\"Estimated s = \",self.s)\n",
    "\n",
    "    def  __hash_naive(self, i, arr): #private function\n",
    "        res = self.random_tab[i][-1]\n",
    "        for j,a in enumerate(arr):\n",
    "            res+=a*self.random_tab[i][j]\n",
    "        return res%self.N\n",
    "    \n",
    "    def __LocalitySensitiveHashing(self, hashed_vector) -> np.ndarray:\n",
    "        res = np.zeros(self.b)\n",
    "        for i in range(self.b):\n",
    "            sample = hashed_vector[i*self.r:(i+1)*self.r]\n",
    "            res[i] = self.__hash_naive(i,sample)\n",
    "        return res #length b\n",
    "    \n",
    "    def full_LSH_matrix(self, minhash_matrix):\n",
    "        for i,vector in enumerate(minhash_matrix):\n",
    "            self.matrix[i] = self.__LocalitySensitiveHashing(vector) #\n",
    "        self.matrix = self.matrix.transpose()\n",
    "            \n",
    "    def find_similarity(self):\n",
    "        set_sim = set()\n",
    "        for band in range(self.b):\n",
    "            for i in range(np.shape(self.matrix)[1]):\n",
    "                for j in range(i):\n",
    "                    if (self.matrix[band][i]==self.matrix[band][j]):\n",
    "                        set_sim.add((i,j))\n",
    "        return set_sim"
   ]
  },
  {
   "cell_type": "code",
   "execution_count": 92,
   "id": "15ebe2d4",
   "metadata": {},
   "outputs": [
    {
     "name": "stdout",
     "output_type": "stream",
     "text": [
      "Estimated s =  0.5492802716530588\n"
     ]
    }
   ],
   "source": [
    "time_begin=time.time()\n",
    "LSH_model = LSH(20,5,print_s=True)"
   ]
  },
  {
   "cell_type": "code",
   "execution_count": 93,
   "id": "2bce8545",
   "metadata": {},
   "outputs": [],
   "source": [
    "LSH_model.full_LSH_matrix(matrix_hashed_2)"
   ]
  },
  {
   "cell_type": "code",
   "execution_count": 94,
   "id": "ef3d53a0",
   "metadata": {},
   "outputs": [
    {
     "data": {
      "text/plain": [
       "7.315013647079468"
      ]
     },
     "execution_count": 94,
     "metadata": {},
     "output_type": "execute_result"
    }
   ],
   "source": [
    "similar = LSH_model.find_similarity()\n",
    "time.time()-time_begin"
   ]
  },
  {
   "cell_type": "code",
   "execution_count": 95,
   "id": "2c20c02a",
   "metadata": {},
   "outputs": [
    {
     "name": "stdout",
     "output_type": "stream",
     "text": [
      "Similarity found between (556, 328) . Real similarity : 0.671\n",
      "Similarity found between (601, 559) . Real similarity : 0.299\n",
      "Similarity found between (472, 338) . Real similarity : 1.0\n",
      "Similarity found between (324, 161) . Real similarity : 0.985\n",
      "Similarity found between (984, 875) . Real similarity : 1.0\n",
      "Similarity found between (165, 164) . Real similarity : 0.589\n",
      "Similarity found between (430, 381) . Real similarity : 1.0\n",
      "Similarity found between (981, 838) . Real similarity : 0.997\n",
      "Similarity found between (947, 728) . Real similarity : 0.908\n",
      "Similarity found between (460, 353) . Real similarity : 0.668\n",
      "Similarity found between (956, 708) . Real similarity : 1.0\n",
      "Similarity found between (421, 345) . Real similarity : 1.0\n"
     ]
    }
   ],
   "source": [
    "for sim in list(similar):\n",
    "    print(\"Similarity found between\",sim,\". Real similarity :\",round(CompareSets(tab_sh[sim[0]],tab_sh[sim[1]]),3))"
   ]
  },
  {
   "cell_type": "code",
   "execution_count": 112,
   "id": "189b4592",
   "metadata": {},
   "outputs": [
    {
     "name": "stdout",
     "output_type": "stream",
     "text": [
      "Count found : 12  Expected value : 12\n",
      "# false positive : 1 ; # false negative : 1\n"
     ]
    }
   ],
   "source": [
    "print(\"Count found :\",len(similar),\" Expected value :\",len(exp_res_sim))\n",
    "false_pos = [sim for sim in similar if 0.549>CompareSets(tab_sh[sim[0]],tab_sh[sim[1]])]\n",
    "print(\"# false positive :\",len(false_pos),\"; # false negative :\",len(exp_res_sim)-len(similar)+len(false_pos))"
   ]
  },
  {
   "cell_type": "code",
   "execution_count": 32,
   "id": "7981db08",
   "metadata": {
    "scrolled": true
   },
   "outputs": [
    {
     "data": {
      "text/plain": [
       "759.9965267181396"
      ]
     },
     "execution_count": 32,
     "metadata": {},
     "output_type": "execute_result"
    }
   ],
   "source": [
    "time.time()-t_0"
   ]
  },
  {
   "cell_type": "markdown",
   "id": "a409c85e",
   "metadata": {},
   "source": [
    "# Comparison of results depending on $k$"
   ]
  },
  {
   "cell_type": "markdown",
   "id": "289e044b",
   "metadata": {},
   "source": [
    "```Python\n",
    "k_values = np.arange(5,15)\n",
    "numb_sim = []\n",
    "time_tab = []\n",
    "n=100\n",
    "b=20\n",
    "r=5\n",
    "\n",
    "for k in k_values:\n",
    "    time_begin = time.time()\n",
    "    tab_sh = generate_tab_sh(tab_data, k)\n",
    "    union_sh, dict_int_to_sh = preprocessing_MinHashing(tab_sh)\n",
    "    matrix_hashed_2 = MinHashing(tab_sh)\n",
    "    LSH_model = LSH(20,5)\n",
    "    LSH_model.full_LSH_matrix(matrix_hashed_2)\n",
    "    similar = LSH_model.find_similarity()\n",
    "    numb_sim.append(len(similar))\n",
    "    time_tab.append(time.time()-time_begin)\n",
    "\n",
    "df_result = pd.DataFrame(data={'k':k_values,'Estimation of  similar items':numb_sim,'Computation time' : time_tab}).set_index('k')\n",
    "df_result.to_csv('Results/comparison_k.csv', sep=';')    \n",
    "```"
   ]
  },
  {
   "cell_type": "code",
   "execution_count": 50,
   "id": "06c22d05",
   "metadata": {},
   "outputs": [],
   "source": [
    "import pandas as pd\n",
    "import plotly.graph_objects as go\n",
    "\n",
    "df_result = pd.read_csv('Results/comparison_k.csv', sep=';')"
   ]
  },
  {
   "cell_type": "code",
   "execution_count": 84,
   "id": "e9cfdd66",
   "metadata": {},
   "outputs": [
    {
     "data": {
      "application/vnd.plotly.v1+json": {
       "config": {
        "plotlyServerURL": "https://plot.ly"
       },
       "data": [
        {
         "hovertemplate": "k = %{x}<br>Number = %{y}<extra></extra>",
         "mode": "lines",
         "type": "scatter",
         "x": [
          5,
          6,
          7,
          8,
          9,
          10,
          11,
          12,
          13,
          14
         ],
         "y": [
          44,
          14,
          13,
          14,
          14,
          13,
          14,
          13,
          12,
          12
         ]
        }
       ],
       "layout": {
        "template": {
         "data": {
          "bar": [
           {
            "error_x": {
             "color": "#2a3f5f"
            },
            "error_y": {
             "color": "#2a3f5f"
            },
            "marker": {
             "line": {
              "color": "#E5ECF6",
              "width": 0.5
             },
             "pattern": {
              "fillmode": "overlay",
              "size": 10,
              "solidity": 0.2
             }
            },
            "type": "bar"
           }
          ],
          "barpolar": [
           {
            "marker": {
             "line": {
              "color": "#E5ECF6",
              "width": 0.5
             },
             "pattern": {
              "fillmode": "overlay",
              "size": 10,
              "solidity": 0.2
             }
            },
            "type": "barpolar"
           }
          ],
          "carpet": [
           {
            "aaxis": {
             "endlinecolor": "#2a3f5f",
             "gridcolor": "white",
             "linecolor": "white",
             "minorgridcolor": "white",
             "startlinecolor": "#2a3f5f"
            },
            "baxis": {
             "endlinecolor": "#2a3f5f",
             "gridcolor": "white",
             "linecolor": "white",
             "minorgridcolor": "white",
             "startlinecolor": "#2a3f5f"
            },
            "type": "carpet"
           }
          ],
          "choropleth": [
           {
            "colorbar": {
             "outlinewidth": 0,
             "ticks": ""
            },
            "type": "choropleth"
           }
          ],
          "contour": [
           {
            "colorbar": {
             "outlinewidth": 0,
             "ticks": ""
            },
            "colorscale": [
             [
              0,
              "#0d0887"
             ],
             [
              0.1111111111111111,
              "#46039f"
             ],
             [
              0.2222222222222222,
              "#7201a8"
             ],
             [
              0.3333333333333333,
              "#9c179e"
             ],
             [
              0.4444444444444444,
              "#bd3786"
             ],
             [
              0.5555555555555556,
              "#d8576b"
             ],
             [
              0.6666666666666666,
              "#ed7953"
             ],
             [
              0.7777777777777778,
              "#fb9f3a"
             ],
             [
              0.8888888888888888,
              "#fdca26"
             ],
             [
              1,
              "#f0f921"
             ]
            ],
            "type": "contour"
           }
          ],
          "contourcarpet": [
           {
            "colorbar": {
             "outlinewidth": 0,
             "ticks": ""
            },
            "type": "contourcarpet"
           }
          ],
          "heatmap": [
           {
            "colorbar": {
             "outlinewidth": 0,
             "ticks": ""
            },
            "colorscale": [
             [
              0,
              "#0d0887"
             ],
             [
              0.1111111111111111,
              "#46039f"
             ],
             [
              0.2222222222222222,
              "#7201a8"
             ],
             [
              0.3333333333333333,
              "#9c179e"
             ],
             [
              0.4444444444444444,
              "#bd3786"
             ],
             [
              0.5555555555555556,
              "#d8576b"
             ],
             [
              0.6666666666666666,
              "#ed7953"
             ],
             [
              0.7777777777777778,
              "#fb9f3a"
             ],
             [
              0.8888888888888888,
              "#fdca26"
             ],
             [
              1,
              "#f0f921"
             ]
            ],
            "type": "heatmap"
           }
          ],
          "heatmapgl": [
           {
            "colorbar": {
             "outlinewidth": 0,
             "ticks": ""
            },
            "colorscale": [
             [
              0,
              "#0d0887"
             ],
             [
              0.1111111111111111,
              "#46039f"
             ],
             [
              0.2222222222222222,
              "#7201a8"
             ],
             [
              0.3333333333333333,
              "#9c179e"
             ],
             [
              0.4444444444444444,
              "#bd3786"
             ],
             [
              0.5555555555555556,
              "#d8576b"
             ],
             [
              0.6666666666666666,
              "#ed7953"
             ],
             [
              0.7777777777777778,
              "#fb9f3a"
             ],
             [
              0.8888888888888888,
              "#fdca26"
             ],
             [
              1,
              "#f0f921"
             ]
            ],
            "type": "heatmapgl"
           }
          ],
          "histogram": [
           {
            "marker": {
             "pattern": {
              "fillmode": "overlay",
              "size": 10,
              "solidity": 0.2
             }
            },
            "type": "histogram"
           }
          ],
          "histogram2d": [
           {
            "colorbar": {
             "outlinewidth": 0,
             "ticks": ""
            },
            "colorscale": [
             [
              0,
              "#0d0887"
             ],
             [
              0.1111111111111111,
              "#46039f"
             ],
             [
              0.2222222222222222,
              "#7201a8"
             ],
             [
              0.3333333333333333,
              "#9c179e"
             ],
             [
              0.4444444444444444,
              "#bd3786"
             ],
             [
              0.5555555555555556,
              "#d8576b"
             ],
             [
              0.6666666666666666,
              "#ed7953"
             ],
             [
              0.7777777777777778,
              "#fb9f3a"
             ],
             [
              0.8888888888888888,
              "#fdca26"
             ],
             [
              1,
              "#f0f921"
             ]
            ],
            "type": "histogram2d"
           }
          ],
          "histogram2dcontour": [
           {
            "colorbar": {
             "outlinewidth": 0,
             "ticks": ""
            },
            "colorscale": [
             [
              0,
              "#0d0887"
             ],
             [
              0.1111111111111111,
              "#46039f"
             ],
             [
              0.2222222222222222,
              "#7201a8"
             ],
             [
              0.3333333333333333,
              "#9c179e"
             ],
             [
              0.4444444444444444,
              "#bd3786"
             ],
             [
              0.5555555555555556,
              "#d8576b"
             ],
             [
              0.6666666666666666,
              "#ed7953"
             ],
             [
              0.7777777777777778,
              "#fb9f3a"
             ],
             [
              0.8888888888888888,
              "#fdca26"
             ],
             [
              1,
              "#f0f921"
             ]
            ],
            "type": "histogram2dcontour"
           }
          ],
          "mesh3d": [
           {
            "colorbar": {
             "outlinewidth": 0,
             "ticks": ""
            },
            "type": "mesh3d"
           }
          ],
          "parcoords": [
           {
            "line": {
             "colorbar": {
              "outlinewidth": 0,
              "ticks": ""
             }
            },
            "type": "parcoords"
           }
          ],
          "pie": [
           {
            "automargin": true,
            "type": "pie"
           }
          ],
          "scatter": [
           {
            "marker": {
             "colorbar": {
              "outlinewidth": 0,
              "ticks": ""
             }
            },
            "type": "scatter"
           }
          ],
          "scatter3d": [
           {
            "line": {
             "colorbar": {
              "outlinewidth": 0,
              "ticks": ""
             }
            },
            "marker": {
             "colorbar": {
              "outlinewidth": 0,
              "ticks": ""
             }
            },
            "type": "scatter3d"
           }
          ],
          "scattercarpet": [
           {
            "marker": {
             "colorbar": {
              "outlinewidth": 0,
              "ticks": ""
             }
            },
            "type": "scattercarpet"
           }
          ],
          "scattergeo": [
           {
            "marker": {
             "colorbar": {
              "outlinewidth": 0,
              "ticks": ""
             }
            },
            "type": "scattergeo"
           }
          ],
          "scattergl": [
           {
            "marker": {
             "colorbar": {
              "outlinewidth": 0,
              "ticks": ""
             }
            },
            "type": "scattergl"
           }
          ],
          "scattermapbox": [
           {
            "marker": {
             "colorbar": {
              "outlinewidth": 0,
              "ticks": ""
             }
            },
            "type": "scattermapbox"
           }
          ],
          "scatterpolar": [
           {
            "marker": {
             "colorbar": {
              "outlinewidth": 0,
              "ticks": ""
             }
            },
            "type": "scatterpolar"
           }
          ],
          "scatterpolargl": [
           {
            "marker": {
             "colorbar": {
              "outlinewidth": 0,
              "ticks": ""
             }
            },
            "type": "scatterpolargl"
           }
          ],
          "scatterternary": [
           {
            "marker": {
             "colorbar": {
              "outlinewidth": 0,
              "ticks": ""
             }
            },
            "type": "scatterternary"
           }
          ],
          "surface": [
           {
            "colorbar": {
             "outlinewidth": 0,
             "ticks": ""
            },
            "colorscale": [
             [
              0,
              "#0d0887"
             ],
             [
              0.1111111111111111,
              "#46039f"
             ],
             [
              0.2222222222222222,
              "#7201a8"
             ],
             [
              0.3333333333333333,
              "#9c179e"
             ],
             [
              0.4444444444444444,
              "#bd3786"
             ],
             [
              0.5555555555555556,
              "#d8576b"
             ],
             [
              0.6666666666666666,
              "#ed7953"
             ],
             [
              0.7777777777777778,
              "#fb9f3a"
             ],
             [
              0.8888888888888888,
              "#fdca26"
             ],
             [
              1,
              "#f0f921"
             ]
            ],
            "type": "surface"
           }
          ],
          "table": [
           {
            "cells": {
             "fill": {
              "color": "#EBF0F8"
             },
             "line": {
              "color": "white"
             }
            },
            "header": {
             "fill": {
              "color": "#C8D4E3"
             },
             "line": {
              "color": "white"
             }
            },
            "type": "table"
           }
          ]
         },
         "layout": {
          "annotationdefaults": {
           "arrowcolor": "#2a3f5f",
           "arrowhead": 0,
           "arrowwidth": 1
          },
          "autotypenumbers": "strict",
          "coloraxis": {
           "colorbar": {
            "outlinewidth": 0,
            "ticks": ""
           }
          },
          "colorscale": {
           "diverging": [
            [
             0,
             "#8e0152"
            ],
            [
             0.1,
             "#c51b7d"
            ],
            [
             0.2,
             "#de77ae"
            ],
            [
             0.3,
             "#f1b6da"
            ],
            [
             0.4,
             "#fde0ef"
            ],
            [
             0.5,
             "#f7f7f7"
            ],
            [
             0.6,
             "#e6f5d0"
            ],
            [
             0.7,
             "#b8e186"
            ],
            [
             0.8,
             "#7fbc41"
            ],
            [
             0.9,
             "#4d9221"
            ],
            [
             1,
             "#276419"
            ]
           ],
           "sequential": [
            [
             0,
             "#0d0887"
            ],
            [
             0.1111111111111111,
             "#46039f"
            ],
            [
             0.2222222222222222,
             "#7201a8"
            ],
            [
             0.3333333333333333,
             "#9c179e"
            ],
            [
             0.4444444444444444,
             "#bd3786"
            ],
            [
             0.5555555555555556,
             "#d8576b"
            ],
            [
             0.6666666666666666,
             "#ed7953"
            ],
            [
             0.7777777777777778,
             "#fb9f3a"
            ],
            [
             0.8888888888888888,
             "#fdca26"
            ],
            [
             1,
             "#f0f921"
            ]
           ],
           "sequentialminus": [
            [
             0,
             "#0d0887"
            ],
            [
             0.1111111111111111,
             "#46039f"
            ],
            [
             0.2222222222222222,
             "#7201a8"
            ],
            [
             0.3333333333333333,
             "#9c179e"
            ],
            [
             0.4444444444444444,
             "#bd3786"
            ],
            [
             0.5555555555555556,
             "#d8576b"
            ],
            [
             0.6666666666666666,
             "#ed7953"
            ],
            [
             0.7777777777777778,
             "#fb9f3a"
            ],
            [
             0.8888888888888888,
             "#fdca26"
            ],
            [
             1,
             "#f0f921"
            ]
           ]
          },
          "colorway": [
           "#636efa",
           "#EF553B",
           "#00cc96",
           "#ab63fa",
           "#FFA15A",
           "#19d3f3",
           "#FF6692",
           "#B6E880",
           "#FF97FF",
           "#FECB52"
          ],
          "font": {
           "color": "#2a3f5f"
          },
          "geo": {
           "bgcolor": "white",
           "lakecolor": "white",
           "landcolor": "#E5ECF6",
           "showlakes": true,
           "showland": true,
           "subunitcolor": "white"
          },
          "hoverlabel": {
           "align": "left"
          },
          "hovermode": "closest",
          "mapbox": {
           "style": "light"
          },
          "paper_bgcolor": "white",
          "plot_bgcolor": "#E5ECF6",
          "polar": {
           "angularaxis": {
            "gridcolor": "white",
            "linecolor": "white",
            "ticks": ""
           },
           "bgcolor": "#E5ECF6",
           "radialaxis": {
            "gridcolor": "white",
            "linecolor": "white",
            "ticks": ""
           }
          },
          "scene": {
           "xaxis": {
            "backgroundcolor": "#E5ECF6",
            "gridcolor": "white",
            "gridwidth": 2,
            "linecolor": "white",
            "showbackground": true,
            "ticks": "",
            "zerolinecolor": "white"
           },
           "yaxis": {
            "backgroundcolor": "#E5ECF6",
            "gridcolor": "white",
            "gridwidth": 2,
            "linecolor": "white",
            "showbackground": true,
            "ticks": "",
            "zerolinecolor": "white"
           },
           "zaxis": {
            "backgroundcolor": "#E5ECF6",
            "gridcolor": "white",
            "gridwidth": 2,
            "linecolor": "white",
            "showbackground": true,
            "ticks": "",
            "zerolinecolor": "white"
           }
          },
          "shapedefaults": {
           "line": {
            "color": "#2a3f5f"
           }
          },
          "ternary": {
           "aaxis": {
            "gridcolor": "white",
            "linecolor": "white",
            "ticks": ""
           },
           "baxis": {
            "gridcolor": "white",
            "linecolor": "white",
            "ticks": ""
           },
           "bgcolor": "#E5ECF6",
           "caxis": {
            "gridcolor": "white",
            "linecolor": "white",
            "ticks": ""
           }
          },
          "title": {
           "x": 0.05
          },
          "xaxis": {
           "automargin": true,
           "gridcolor": "white",
           "linecolor": "white",
           "ticks": "",
           "title": {
            "standoff": 15
           },
           "zerolinecolor": "white",
           "zerolinewidth": 2
          },
          "yaxis": {
           "automargin": true,
           "gridcolor": "white",
           "linecolor": "white",
           "ticks": "",
           "title": {
            "standoff": 15
           },
           "zerolinecolor": "white",
           "zerolinewidth": 2
          }
         }
        },
        "title": {
         "text": "Number of similar items depending on the size of a shingling"
        },
        "xaxis": {
         "title": {
          "text": "Length k of a shingling"
         }
        },
        "yaxis": {
         "title": {
          "text": "Computation time (in s)"
         }
        }
       }
      },
      "text/html": [
       "<div>                            <div id=\"eb9b06cd-fb23-4cdd-ba13-e17792ba4a8e\" class=\"plotly-graph-div\" style=\"height:525px; width:100%;\"></div>            <script type=\"text/javascript\">                require([\"plotly\"], function(Plotly) {                    window.PLOTLYENV=window.PLOTLYENV || {};                                    if (document.getElementById(\"eb9b06cd-fb23-4cdd-ba13-e17792ba4a8e\")) {                    Plotly.newPlot(                        \"eb9b06cd-fb23-4cdd-ba13-e17792ba4a8e\",                        [{\"hovertemplate\":\"k = %{x}<br>Number = %{y}<extra></extra>\",\"mode\":\"lines\",\"x\":[5,6,7,8,9,10,11,12,13,14],\"y\":[44,14,13,14,14,13,14,13,12,12],\"type\":\"scatter\"}],                        {\"title\":{\"text\":\"Number of similar items depending on the size of a shingling\"},\"xaxis\":{\"title\":{\"text\":\"Length k of a shingling\"}},\"yaxis\":{\"title\":{\"text\":\"Computation time (in s)\"}},\"template\":{\"data\":{\"bar\":[{\"error_x\":{\"color\":\"#2a3f5f\"},\"error_y\":{\"color\":\"#2a3f5f\"},\"marker\":{\"line\":{\"color\":\"#E5ECF6\",\"width\":0.5},\"pattern\":{\"fillmode\":\"overlay\",\"size\":10,\"solidity\":0.2}},\"type\":\"bar\"}],\"barpolar\":[{\"marker\":{\"line\":{\"color\":\"#E5ECF6\",\"width\":0.5},\"pattern\":{\"fillmode\":\"overlay\",\"size\":10,\"solidity\":0.2}},\"type\":\"barpolar\"}],\"carpet\":[{\"aaxis\":{\"endlinecolor\":\"#2a3f5f\",\"gridcolor\":\"white\",\"linecolor\":\"white\",\"minorgridcolor\":\"white\",\"startlinecolor\":\"#2a3f5f\"},\"baxis\":{\"endlinecolor\":\"#2a3f5f\",\"gridcolor\":\"white\",\"linecolor\":\"white\",\"minorgridcolor\":\"white\",\"startlinecolor\":\"#2a3f5f\"},\"type\":\"carpet\"}],\"choropleth\":[{\"colorbar\":{\"outlinewidth\":0,\"ticks\":\"\"},\"type\":\"choropleth\"}],\"contour\":[{\"colorbar\":{\"outlinewidth\":0,\"ticks\":\"\"},\"colorscale\":[[0.0,\"#0d0887\"],[0.1111111111111111,\"#46039f\"],[0.2222222222222222,\"#7201a8\"],[0.3333333333333333,\"#9c179e\"],[0.4444444444444444,\"#bd3786\"],[0.5555555555555556,\"#d8576b\"],[0.6666666666666666,\"#ed7953\"],[0.7777777777777778,\"#fb9f3a\"],[0.8888888888888888,\"#fdca26\"],[1.0,\"#f0f921\"]],\"type\":\"contour\"}],\"contourcarpet\":[{\"colorbar\":{\"outlinewidth\":0,\"ticks\":\"\"},\"type\":\"contourcarpet\"}],\"heatmap\":[{\"colorbar\":{\"outlinewidth\":0,\"ticks\":\"\"},\"colorscale\":[[0.0,\"#0d0887\"],[0.1111111111111111,\"#46039f\"],[0.2222222222222222,\"#7201a8\"],[0.3333333333333333,\"#9c179e\"],[0.4444444444444444,\"#bd3786\"],[0.5555555555555556,\"#d8576b\"],[0.6666666666666666,\"#ed7953\"],[0.7777777777777778,\"#fb9f3a\"],[0.8888888888888888,\"#fdca26\"],[1.0,\"#f0f921\"]],\"type\":\"heatmap\"}],\"heatmapgl\":[{\"colorbar\":{\"outlinewidth\":0,\"ticks\":\"\"},\"colorscale\":[[0.0,\"#0d0887\"],[0.1111111111111111,\"#46039f\"],[0.2222222222222222,\"#7201a8\"],[0.3333333333333333,\"#9c179e\"],[0.4444444444444444,\"#bd3786\"],[0.5555555555555556,\"#d8576b\"],[0.6666666666666666,\"#ed7953\"],[0.7777777777777778,\"#fb9f3a\"],[0.8888888888888888,\"#fdca26\"],[1.0,\"#f0f921\"]],\"type\":\"heatmapgl\"}],\"histogram\":[{\"marker\":{\"pattern\":{\"fillmode\":\"overlay\",\"size\":10,\"solidity\":0.2}},\"type\":\"histogram\"}],\"histogram2d\":[{\"colorbar\":{\"outlinewidth\":0,\"ticks\":\"\"},\"colorscale\":[[0.0,\"#0d0887\"],[0.1111111111111111,\"#46039f\"],[0.2222222222222222,\"#7201a8\"],[0.3333333333333333,\"#9c179e\"],[0.4444444444444444,\"#bd3786\"],[0.5555555555555556,\"#d8576b\"],[0.6666666666666666,\"#ed7953\"],[0.7777777777777778,\"#fb9f3a\"],[0.8888888888888888,\"#fdca26\"],[1.0,\"#f0f921\"]],\"type\":\"histogram2d\"}],\"histogram2dcontour\":[{\"colorbar\":{\"outlinewidth\":0,\"ticks\":\"\"},\"colorscale\":[[0.0,\"#0d0887\"],[0.1111111111111111,\"#46039f\"],[0.2222222222222222,\"#7201a8\"],[0.3333333333333333,\"#9c179e\"],[0.4444444444444444,\"#bd3786\"],[0.5555555555555556,\"#d8576b\"],[0.6666666666666666,\"#ed7953\"],[0.7777777777777778,\"#fb9f3a\"],[0.8888888888888888,\"#fdca26\"],[1.0,\"#f0f921\"]],\"type\":\"histogram2dcontour\"}],\"mesh3d\":[{\"colorbar\":{\"outlinewidth\":0,\"ticks\":\"\"},\"type\":\"mesh3d\"}],\"parcoords\":[{\"line\":{\"colorbar\":{\"outlinewidth\":0,\"ticks\":\"\"}},\"type\":\"parcoords\"}],\"pie\":[{\"automargin\":true,\"type\":\"pie\"}],\"scatter\":[{\"marker\":{\"colorbar\":{\"outlinewidth\":0,\"ticks\":\"\"}},\"type\":\"scatter\"}],\"scatter3d\":[{\"line\":{\"colorbar\":{\"outlinewidth\":0,\"ticks\":\"\"}},\"marker\":{\"colorbar\":{\"outlinewidth\":0,\"ticks\":\"\"}},\"type\":\"scatter3d\"}],\"scattercarpet\":[{\"marker\":{\"colorbar\":{\"outlinewidth\":0,\"ticks\":\"\"}},\"type\":\"scattercarpet\"}],\"scattergeo\":[{\"marker\":{\"colorbar\":{\"outlinewidth\":0,\"ticks\":\"\"}},\"type\":\"scattergeo\"}],\"scattergl\":[{\"marker\":{\"colorbar\":{\"outlinewidth\":0,\"ticks\":\"\"}},\"type\":\"scattergl\"}],\"scattermapbox\":[{\"marker\":{\"colorbar\":{\"outlinewidth\":0,\"ticks\":\"\"}},\"type\":\"scattermapbox\"}],\"scatterpolar\":[{\"marker\":{\"colorbar\":{\"outlinewidth\":0,\"ticks\":\"\"}},\"type\":\"scatterpolar\"}],\"scatterpolargl\":[{\"marker\":{\"colorbar\":{\"outlinewidth\":0,\"ticks\":\"\"}},\"type\":\"scatterpolargl\"}],\"scatterternary\":[{\"marker\":{\"colorbar\":{\"outlinewidth\":0,\"ticks\":\"\"}},\"type\":\"scatterternary\"}],\"surface\":[{\"colorbar\":{\"outlinewidth\":0,\"ticks\":\"\"},\"colorscale\":[[0.0,\"#0d0887\"],[0.1111111111111111,\"#46039f\"],[0.2222222222222222,\"#7201a8\"],[0.3333333333333333,\"#9c179e\"],[0.4444444444444444,\"#bd3786\"],[0.5555555555555556,\"#d8576b\"],[0.6666666666666666,\"#ed7953\"],[0.7777777777777778,\"#fb9f3a\"],[0.8888888888888888,\"#fdca26\"],[1.0,\"#f0f921\"]],\"type\":\"surface\"}],\"table\":[{\"cells\":{\"fill\":{\"color\":\"#EBF0F8\"},\"line\":{\"color\":\"white\"}},\"header\":{\"fill\":{\"color\":\"#C8D4E3\"},\"line\":{\"color\":\"white\"}},\"type\":\"table\"}]},\"layout\":{\"annotationdefaults\":{\"arrowcolor\":\"#2a3f5f\",\"arrowhead\":0,\"arrowwidth\":1},\"autotypenumbers\":\"strict\",\"coloraxis\":{\"colorbar\":{\"outlinewidth\":0,\"ticks\":\"\"}},\"colorscale\":{\"diverging\":[[0,\"#8e0152\"],[0.1,\"#c51b7d\"],[0.2,\"#de77ae\"],[0.3,\"#f1b6da\"],[0.4,\"#fde0ef\"],[0.5,\"#f7f7f7\"],[0.6,\"#e6f5d0\"],[0.7,\"#b8e186\"],[0.8,\"#7fbc41\"],[0.9,\"#4d9221\"],[1,\"#276419\"]],\"sequential\":[[0.0,\"#0d0887\"],[0.1111111111111111,\"#46039f\"],[0.2222222222222222,\"#7201a8\"],[0.3333333333333333,\"#9c179e\"],[0.4444444444444444,\"#bd3786\"],[0.5555555555555556,\"#d8576b\"],[0.6666666666666666,\"#ed7953\"],[0.7777777777777778,\"#fb9f3a\"],[0.8888888888888888,\"#fdca26\"],[1.0,\"#f0f921\"]],\"sequentialminus\":[[0.0,\"#0d0887\"],[0.1111111111111111,\"#46039f\"],[0.2222222222222222,\"#7201a8\"],[0.3333333333333333,\"#9c179e\"],[0.4444444444444444,\"#bd3786\"],[0.5555555555555556,\"#d8576b\"],[0.6666666666666666,\"#ed7953\"],[0.7777777777777778,\"#fb9f3a\"],[0.8888888888888888,\"#fdca26\"],[1.0,\"#f0f921\"]]},\"colorway\":[\"#636efa\",\"#EF553B\",\"#00cc96\",\"#ab63fa\",\"#FFA15A\",\"#19d3f3\",\"#FF6692\",\"#B6E880\",\"#FF97FF\",\"#FECB52\"],\"font\":{\"color\":\"#2a3f5f\"},\"geo\":{\"bgcolor\":\"white\",\"lakecolor\":\"white\",\"landcolor\":\"#E5ECF6\",\"showlakes\":true,\"showland\":true,\"subunitcolor\":\"white\"},\"hoverlabel\":{\"align\":\"left\"},\"hovermode\":\"closest\",\"mapbox\":{\"style\":\"light\"},\"paper_bgcolor\":\"white\",\"plot_bgcolor\":\"#E5ECF6\",\"polar\":{\"angularaxis\":{\"gridcolor\":\"white\",\"linecolor\":\"white\",\"ticks\":\"\"},\"bgcolor\":\"#E5ECF6\",\"radialaxis\":{\"gridcolor\":\"white\",\"linecolor\":\"white\",\"ticks\":\"\"}},\"scene\":{\"xaxis\":{\"backgroundcolor\":\"#E5ECF6\",\"gridcolor\":\"white\",\"gridwidth\":2,\"linecolor\":\"white\",\"showbackground\":true,\"ticks\":\"\",\"zerolinecolor\":\"white\"},\"yaxis\":{\"backgroundcolor\":\"#E5ECF6\",\"gridcolor\":\"white\",\"gridwidth\":2,\"linecolor\":\"white\",\"showbackground\":true,\"ticks\":\"\",\"zerolinecolor\":\"white\"},\"zaxis\":{\"backgroundcolor\":\"#E5ECF6\",\"gridcolor\":\"white\",\"gridwidth\":2,\"linecolor\":\"white\",\"showbackground\":true,\"ticks\":\"\",\"zerolinecolor\":\"white\"}},\"shapedefaults\":{\"line\":{\"color\":\"#2a3f5f\"}},\"ternary\":{\"aaxis\":{\"gridcolor\":\"white\",\"linecolor\":\"white\",\"ticks\":\"\"},\"baxis\":{\"gridcolor\":\"white\",\"linecolor\":\"white\",\"ticks\":\"\"},\"bgcolor\":\"#E5ECF6\",\"caxis\":{\"gridcolor\":\"white\",\"linecolor\":\"white\",\"ticks\":\"\"}},\"title\":{\"x\":0.05},\"xaxis\":{\"automargin\":true,\"gridcolor\":\"white\",\"linecolor\":\"white\",\"ticks\":\"\",\"title\":{\"standoff\":15},\"zerolinecolor\":\"white\",\"zerolinewidth\":2},\"yaxis\":{\"automargin\":true,\"gridcolor\":\"white\",\"linecolor\":\"white\",\"ticks\":\"\",\"title\":{\"standoff\":15},\"zerolinecolor\":\"white\",\"zerolinewidth\":2}}}},                        {\"responsive\": true}                    ).then(function(){\n",
       "                            \n",
       "var gd = document.getElementById('eb9b06cd-fb23-4cdd-ba13-e17792ba4a8e');\n",
       "var x = new MutationObserver(function (mutations, observer) {{\n",
       "        var display = window.getComputedStyle(gd).display;\n",
       "        if (!display || display === 'none') {{\n",
       "            console.log([gd, 'removed!']);\n",
       "            Plotly.purge(gd);\n",
       "            observer.disconnect();\n",
       "        }}\n",
       "}});\n",
       "\n",
       "// Listen for the removal of the full notebook cells\n",
       "var notebookContainer = gd.closest('#notebook-container');\n",
       "if (notebookContainer) {{\n",
       "    x.observe(notebookContainer, {childList: true});\n",
       "}}\n",
       "\n",
       "// Listen for the clearing of the current output cell\n",
       "var outputEl = gd.closest('.output');\n",
       "if (outputEl) {{\n",
       "    x.observe(outputEl, {childList: true});\n",
       "}}\n",
       "\n",
       "                        })                };                });            </script>        </div>"
      ]
     },
     "metadata": {},
     "output_type": "display_data"
    }
   ],
   "source": [
    "go.Figure(data=[go.Scatter(x=df_result.index,y=df_result[\"Estimation of  similar items\"], mode=\"lines\", hovertemplate='k = %{x}<br>Number = %{y}<extra></extra>')],\n",
    "         layout={'xaxis_title':\"Length k of a shingling\",\n",
    "                 'yaxis_title':\"Computation time (in s)\",\n",
    "                 'title':\"Number of similar items depending on the size of a shingling\"})"
   ]
  },
  {
   "cell_type": "code",
   "execution_count": 58,
   "id": "3e054fc6",
   "metadata": {},
   "outputs": [
    {
     "data": {
      "application/vnd.plotly.v1+json": {
       "config": {
        "plotlyServerURL": "https://plot.ly"
       },
       "data": [
        {
         "hovertemplate": "k = %{x}<br>Time = %{y}s<extra></extra>",
         "mode": "lines",
         "type": "scatter",
         "x": [
          5,
          6,
          7,
          8,
          9,
          10,
          11,
          12,
          13,
          14
         ],
         "y": [
          27.147756338119507,
          50.77074837684631,
          79.461017370224,
          116.62270402908325,
          158.42067289352417,
          205.85024428367615,
          243.3596227169037,
          260.3061001300812,
          241.17013692855835,
          270.61693024635315
         ]
        }
       ],
       "layout": {
        "template": {
         "data": {
          "bar": [
           {
            "error_x": {
             "color": "#2a3f5f"
            },
            "error_y": {
             "color": "#2a3f5f"
            },
            "marker": {
             "line": {
              "color": "#E5ECF6",
              "width": 0.5
             },
             "pattern": {
              "fillmode": "overlay",
              "size": 10,
              "solidity": 0.2
             }
            },
            "type": "bar"
           }
          ],
          "barpolar": [
           {
            "marker": {
             "line": {
              "color": "#E5ECF6",
              "width": 0.5
             },
             "pattern": {
              "fillmode": "overlay",
              "size": 10,
              "solidity": 0.2
             }
            },
            "type": "barpolar"
           }
          ],
          "carpet": [
           {
            "aaxis": {
             "endlinecolor": "#2a3f5f",
             "gridcolor": "white",
             "linecolor": "white",
             "minorgridcolor": "white",
             "startlinecolor": "#2a3f5f"
            },
            "baxis": {
             "endlinecolor": "#2a3f5f",
             "gridcolor": "white",
             "linecolor": "white",
             "minorgridcolor": "white",
             "startlinecolor": "#2a3f5f"
            },
            "type": "carpet"
           }
          ],
          "choropleth": [
           {
            "colorbar": {
             "outlinewidth": 0,
             "ticks": ""
            },
            "type": "choropleth"
           }
          ],
          "contour": [
           {
            "colorbar": {
             "outlinewidth": 0,
             "ticks": ""
            },
            "colorscale": [
             [
              0,
              "#0d0887"
             ],
             [
              0.1111111111111111,
              "#46039f"
             ],
             [
              0.2222222222222222,
              "#7201a8"
             ],
             [
              0.3333333333333333,
              "#9c179e"
             ],
             [
              0.4444444444444444,
              "#bd3786"
             ],
             [
              0.5555555555555556,
              "#d8576b"
             ],
             [
              0.6666666666666666,
              "#ed7953"
             ],
             [
              0.7777777777777778,
              "#fb9f3a"
             ],
             [
              0.8888888888888888,
              "#fdca26"
             ],
             [
              1,
              "#f0f921"
             ]
            ],
            "type": "contour"
           }
          ],
          "contourcarpet": [
           {
            "colorbar": {
             "outlinewidth": 0,
             "ticks": ""
            },
            "type": "contourcarpet"
           }
          ],
          "heatmap": [
           {
            "colorbar": {
             "outlinewidth": 0,
             "ticks": ""
            },
            "colorscale": [
             [
              0,
              "#0d0887"
             ],
             [
              0.1111111111111111,
              "#46039f"
             ],
             [
              0.2222222222222222,
              "#7201a8"
             ],
             [
              0.3333333333333333,
              "#9c179e"
             ],
             [
              0.4444444444444444,
              "#bd3786"
             ],
             [
              0.5555555555555556,
              "#d8576b"
             ],
             [
              0.6666666666666666,
              "#ed7953"
             ],
             [
              0.7777777777777778,
              "#fb9f3a"
             ],
             [
              0.8888888888888888,
              "#fdca26"
             ],
             [
              1,
              "#f0f921"
             ]
            ],
            "type": "heatmap"
           }
          ],
          "heatmapgl": [
           {
            "colorbar": {
             "outlinewidth": 0,
             "ticks": ""
            },
            "colorscale": [
             [
              0,
              "#0d0887"
             ],
             [
              0.1111111111111111,
              "#46039f"
             ],
             [
              0.2222222222222222,
              "#7201a8"
             ],
             [
              0.3333333333333333,
              "#9c179e"
             ],
             [
              0.4444444444444444,
              "#bd3786"
             ],
             [
              0.5555555555555556,
              "#d8576b"
             ],
             [
              0.6666666666666666,
              "#ed7953"
             ],
             [
              0.7777777777777778,
              "#fb9f3a"
             ],
             [
              0.8888888888888888,
              "#fdca26"
             ],
             [
              1,
              "#f0f921"
             ]
            ],
            "type": "heatmapgl"
           }
          ],
          "histogram": [
           {
            "marker": {
             "pattern": {
              "fillmode": "overlay",
              "size": 10,
              "solidity": 0.2
             }
            },
            "type": "histogram"
           }
          ],
          "histogram2d": [
           {
            "colorbar": {
             "outlinewidth": 0,
             "ticks": ""
            },
            "colorscale": [
             [
              0,
              "#0d0887"
             ],
             [
              0.1111111111111111,
              "#46039f"
             ],
             [
              0.2222222222222222,
              "#7201a8"
             ],
             [
              0.3333333333333333,
              "#9c179e"
             ],
             [
              0.4444444444444444,
              "#bd3786"
             ],
             [
              0.5555555555555556,
              "#d8576b"
             ],
             [
              0.6666666666666666,
              "#ed7953"
             ],
             [
              0.7777777777777778,
              "#fb9f3a"
             ],
             [
              0.8888888888888888,
              "#fdca26"
             ],
             [
              1,
              "#f0f921"
             ]
            ],
            "type": "histogram2d"
           }
          ],
          "histogram2dcontour": [
           {
            "colorbar": {
             "outlinewidth": 0,
             "ticks": ""
            },
            "colorscale": [
             [
              0,
              "#0d0887"
             ],
             [
              0.1111111111111111,
              "#46039f"
             ],
             [
              0.2222222222222222,
              "#7201a8"
             ],
             [
              0.3333333333333333,
              "#9c179e"
             ],
             [
              0.4444444444444444,
              "#bd3786"
             ],
             [
              0.5555555555555556,
              "#d8576b"
             ],
             [
              0.6666666666666666,
              "#ed7953"
             ],
             [
              0.7777777777777778,
              "#fb9f3a"
             ],
             [
              0.8888888888888888,
              "#fdca26"
             ],
             [
              1,
              "#f0f921"
             ]
            ],
            "type": "histogram2dcontour"
           }
          ],
          "mesh3d": [
           {
            "colorbar": {
             "outlinewidth": 0,
             "ticks": ""
            },
            "type": "mesh3d"
           }
          ],
          "parcoords": [
           {
            "line": {
             "colorbar": {
              "outlinewidth": 0,
              "ticks": ""
             }
            },
            "type": "parcoords"
           }
          ],
          "pie": [
           {
            "automargin": true,
            "type": "pie"
           }
          ],
          "scatter": [
           {
            "marker": {
             "colorbar": {
              "outlinewidth": 0,
              "ticks": ""
             }
            },
            "type": "scatter"
           }
          ],
          "scatter3d": [
           {
            "line": {
             "colorbar": {
              "outlinewidth": 0,
              "ticks": ""
             }
            },
            "marker": {
             "colorbar": {
              "outlinewidth": 0,
              "ticks": ""
             }
            },
            "type": "scatter3d"
           }
          ],
          "scattercarpet": [
           {
            "marker": {
             "colorbar": {
              "outlinewidth": 0,
              "ticks": ""
             }
            },
            "type": "scattercarpet"
           }
          ],
          "scattergeo": [
           {
            "marker": {
             "colorbar": {
              "outlinewidth": 0,
              "ticks": ""
             }
            },
            "type": "scattergeo"
           }
          ],
          "scattergl": [
           {
            "marker": {
             "colorbar": {
              "outlinewidth": 0,
              "ticks": ""
             }
            },
            "type": "scattergl"
           }
          ],
          "scattermapbox": [
           {
            "marker": {
             "colorbar": {
              "outlinewidth": 0,
              "ticks": ""
             }
            },
            "type": "scattermapbox"
           }
          ],
          "scatterpolar": [
           {
            "marker": {
             "colorbar": {
              "outlinewidth": 0,
              "ticks": ""
             }
            },
            "type": "scatterpolar"
           }
          ],
          "scatterpolargl": [
           {
            "marker": {
             "colorbar": {
              "outlinewidth": 0,
              "ticks": ""
             }
            },
            "type": "scatterpolargl"
           }
          ],
          "scatterternary": [
           {
            "marker": {
             "colorbar": {
              "outlinewidth": 0,
              "ticks": ""
             }
            },
            "type": "scatterternary"
           }
          ],
          "surface": [
           {
            "colorbar": {
             "outlinewidth": 0,
             "ticks": ""
            },
            "colorscale": [
             [
              0,
              "#0d0887"
             ],
             [
              0.1111111111111111,
              "#46039f"
             ],
             [
              0.2222222222222222,
              "#7201a8"
             ],
             [
              0.3333333333333333,
              "#9c179e"
             ],
             [
              0.4444444444444444,
              "#bd3786"
             ],
             [
              0.5555555555555556,
              "#d8576b"
             ],
             [
              0.6666666666666666,
              "#ed7953"
             ],
             [
              0.7777777777777778,
              "#fb9f3a"
             ],
             [
              0.8888888888888888,
              "#fdca26"
             ],
             [
              1,
              "#f0f921"
             ]
            ],
            "type": "surface"
           }
          ],
          "table": [
           {
            "cells": {
             "fill": {
              "color": "#EBF0F8"
             },
             "line": {
              "color": "white"
             }
            },
            "header": {
             "fill": {
              "color": "#C8D4E3"
             },
             "line": {
              "color": "white"
             }
            },
            "type": "table"
           }
          ]
         },
         "layout": {
          "annotationdefaults": {
           "arrowcolor": "#2a3f5f",
           "arrowhead": 0,
           "arrowwidth": 1
          },
          "autotypenumbers": "strict",
          "coloraxis": {
           "colorbar": {
            "outlinewidth": 0,
            "ticks": ""
           }
          },
          "colorscale": {
           "diverging": [
            [
             0,
             "#8e0152"
            ],
            [
             0.1,
             "#c51b7d"
            ],
            [
             0.2,
             "#de77ae"
            ],
            [
             0.3,
             "#f1b6da"
            ],
            [
             0.4,
             "#fde0ef"
            ],
            [
             0.5,
             "#f7f7f7"
            ],
            [
             0.6,
             "#e6f5d0"
            ],
            [
             0.7,
             "#b8e186"
            ],
            [
             0.8,
             "#7fbc41"
            ],
            [
             0.9,
             "#4d9221"
            ],
            [
             1,
             "#276419"
            ]
           ],
           "sequential": [
            [
             0,
             "#0d0887"
            ],
            [
             0.1111111111111111,
             "#46039f"
            ],
            [
             0.2222222222222222,
             "#7201a8"
            ],
            [
             0.3333333333333333,
             "#9c179e"
            ],
            [
             0.4444444444444444,
             "#bd3786"
            ],
            [
             0.5555555555555556,
             "#d8576b"
            ],
            [
             0.6666666666666666,
             "#ed7953"
            ],
            [
             0.7777777777777778,
             "#fb9f3a"
            ],
            [
             0.8888888888888888,
             "#fdca26"
            ],
            [
             1,
             "#f0f921"
            ]
           ],
           "sequentialminus": [
            [
             0,
             "#0d0887"
            ],
            [
             0.1111111111111111,
             "#46039f"
            ],
            [
             0.2222222222222222,
             "#7201a8"
            ],
            [
             0.3333333333333333,
             "#9c179e"
            ],
            [
             0.4444444444444444,
             "#bd3786"
            ],
            [
             0.5555555555555556,
             "#d8576b"
            ],
            [
             0.6666666666666666,
             "#ed7953"
            ],
            [
             0.7777777777777778,
             "#fb9f3a"
            ],
            [
             0.8888888888888888,
             "#fdca26"
            ],
            [
             1,
             "#f0f921"
            ]
           ]
          },
          "colorway": [
           "#636efa",
           "#EF553B",
           "#00cc96",
           "#ab63fa",
           "#FFA15A",
           "#19d3f3",
           "#FF6692",
           "#B6E880",
           "#FF97FF",
           "#FECB52"
          ],
          "font": {
           "color": "#2a3f5f"
          },
          "geo": {
           "bgcolor": "white",
           "lakecolor": "white",
           "landcolor": "#E5ECF6",
           "showlakes": true,
           "showland": true,
           "subunitcolor": "white"
          },
          "hoverlabel": {
           "align": "left"
          },
          "hovermode": "closest",
          "mapbox": {
           "style": "light"
          },
          "paper_bgcolor": "white",
          "plot_bgcolor": "#E5ECF6",
          "polar": {
           "angularaxis": {
            "gridcolor": "white",
            "linecolor": "white",
            "ticks": ""
           },
           "bgcolor": "#E5ECF6",
           "radialaxis": {
            "gridcolor": "white",
            "linecolor": "white",
            "ticks": ""
           }
          },
          "scene": {
           "xaxis": {
            "backgroundcolor": "#E5ECF6",
            "gridcolor": "white",
            "gridwidth": 2,
            "linecolor": "white",
            "showbackground": true,
            "ticks": "",
            "zerolinecolor": "white"
           },
           "yaxis": {
            "backgroundcolor": "#E5ECF6",
            "gridcolor": "white",
            "gridwidth": 2,
            "linecolor": "white",
            "showbackground": true,
            "ticks": "",
            "zerolinecolor": "white"
           },
           "zaxis": {
            "backgroundcolor": "#E5ECF6",
            "gridcolor": "white",
            "gridwidth": 2,
            "linecolor": "white",
            "showbackground": true,
            "ticks": "",
            "zerolinecolor": "white"
           }
          },
          "shapedefaults": {
           "line": {
            "color": "#2a3f5f"
           }
          },
          "ternary": {
           "aaxis": {
            "gridcolor": "white",
            "linecolor": "white",
            "ticks": ""
           },
           "baxis": {
            "gridcolor": "white",
            "linecolor": "white",
            "ticks": ""
           },
           "bgcolor": "#E5ECF6",
           "caxis": {
            "gridcolor": "white",
            "linecolor": "white",
            "ticks": ""
           }
          },
          "title": {
           "x": 0.05
          },
          "xaxis": {
           "automargin": true,
           "gridcolor": "white",
           "linecolor": "white",
           "ticks": "",
           "title": {
            "standoff": 15
           },
           "zerolinecolor": "white",
           "zerolinewidth": 2
          },
          "yaxis": {
           "automargin": true,
           "gridcolor": "white",
           "linecolor": "white",
           "ticks": "",
           "title": {
            "standoff": 15
           },
           "zerolinecolor": "white",
           "zerolinewidth": 2
          }
         }
        },
        "title": {
         "text": "Computation time depending on the size of a shingling"
        },
        "xaxis": {
         "title": {
          "text": "Length k of a shingling"
         }
        },
        "yaxis": {
         "title": {
          "text": "Computation time (in s)"
         }
        }
       }
      },
      "text/html": [
       "<div>                            <div id=\"1baa9595-b695-4981-bda4-43d6a6f7edd6\" class=\"plotly-graph-div\" style=\"height:525px; width:100%;\"></div>            <script type=\"text/javascript\">                require([\"plotly\"], function(Plotly) {                    window.PLOTLYENV=window.PLOTLYENV || {};                                    if (document.getElementById(\"1baa9595-b695-4981-bda4-43d6a6f7edd6\")) {                    Plotly.newPlot(                        \"1baa9595-b695-4981-bda4-43d6a6f7edd6\",                        [{\"hovertemplate\":\"k = %{x}<br>Time = %{y}s<extra></extra>\",\"mode\":\"lines\",\"x\":[5,6,7,8,9,10,11,12,13,14],\"y\":[27.147756338119507,50.77074837684631,79.461017370224,116.62270402908325,158.42067289352417,205.85024428367615,243.3596227169037,260.3061001300812,241.17013692855835,270.61693024635315],\"type\":\"scatter\"}],                        {\"title\":{\"text\":\"Computation time depending on the size of a shingling\"},\"xaxis\":{\"title\":{\"text\":\"Length k of a shingling\"}},\"yaxis\":{\"title\":{\"text\":\"Computation time (in s)\"}},\"template\":{\"data\":{\"bar\":[{\"error_x\":{\"color\":\"#2a3f5f\"},\"error_y\":{\"color\":\"#2a3f5f\"},\"marker\":{\"line\":{\"color\":\"#E5ECF6\",\"width\":0.5},\"pattern\":{\"fillmode\":\"overlay\",\"size\":10,\"solidity\":0.2}},\"type\":\"bar\"}],\"barpolar\":[{\"marker\":{\"line\":{\"color\":\"#E5ECF6\",\"width\":0.5},\"pattern\":{\"fillmode\":\"overlay\",\"size\":10,\"solidity\":0.2}},\"type\":\"barpolar\"}],\"carpet\":[{\"aaxis\":{\"endlinecolor\":\"#2a3f5f\",\"gridcolor\":\"white\",\"linecolor\":\"white\",\"minorgridcolor\":\"white\",\"startlinecolor\":\"#2a3f5f\"},\"baxis\":{\"endlinecolor\":\"#2a3f5f\",\"gridcolor\":\"white\",\"linecolor\":\"white\",\"minorgridcolor\":\"white\",\"startlinecolor\":\"#2a3f5f\"},\"type\":\"carpet\"}],\"choropleth\":[{\"colorbar\":{\"outlinewidth\":0,\"ticks\":\"\"},\"type\":\"choropleth\"}],\"contour\":[{\"colorbar\":{\"outlinewidth\":0,\"ticks\":\"\"},\"colorscale\":[[0.0,\"#0d0887\"],[0.1111111111111111,\"#46039f\"],[0.2222222222222222,\"#7201a8\"],[0.3333333333333333,\"#9c179e\"],[0.4444444444444444,\"#bd3786\"],[0.5555555555555556,\"#d8576b\"],[0.6666666666666666,\"#ed7953\"],[0.7777777777777778,\"#fb9f3a\"],[0.8888888888888888,\"#fdca26\"],[1.0,\"#f0f921\"]],\"type\":\"contour\"}],\"contourcarpet\":[{\"colorbar\":{\"outlinewidth\":0,\"ticks\":\"\"},\"type\":\"contourcarpet\"}],\"heatmap\":[{\"colorbar\":{\"outlinewidth\":0,\"ticks\":\"\"},\"colorscale\":[[0.0,\"#0d0887\"],[0.1111111111111111,\"#46039f\"],[0.2222222222222222,\"#7201a8\"],[0.3333333333333333,\"#9c179e\"],[0.4444444444444444,\"#bd3786\"],[0.5555555555555556,\"#d8576b\"],[0.6666666666666666,\"#ed7953\"],[0.7777777777777778,\"#fb9f3a\"],[0.8888888888888888,\"#fdca26\"],[1.0,\"#f0f921\"]],\"type\":\"heatmap\"}],\"heatmapgl\":[{\"colorbar\":{\"outlinewidth\":0,\"ticks\":\"\"},\"colorscale\":[[0.0,\"#0d0887\"],[0.1111111111111111,\"#46039f\"],[0.2222222222222222,\"#7201a8\"],[0.3333333333333333,\"#9c179e\"],[0.4444444444444444,\"#bd3786\"],[0.5555555555555556,\"#d8576b\"],[0.6666666666666666,\"#ed7953\"],[0.7777777777777778,\"#fb9f3a\"],[0.8888888888888888,\"#fdca26\"],[1.0,\"#f0f921\"]],\"type\":\"heatmapgl\"}],\"histogram\":[{\"marker\":{\"pattern\":{\"fillmode\":\"overlay\",\"size\":10,\"solidity\":0.2}},\"type\":\"histogram\"}],\"histogram2d\":[{\"colorbar\":{\"outlinewidth\":0,\"ticks\":\"\"},\"colorscale\":[[0.0,\"#0d0887\"],[0.1111111111111111,\"#46039f\"],[0.2222222222222222,\"#7201a8\"],[0.3333333333333333,\"#9c179e\"],[0.4444444444444444,\"#bd3786\"],[0.5555555555555556,\"#d8576b\"],[0.6666666666666666,\"#ed7953\"],[0.7777777777777778,\"#fb9f3a\"],[0.8888888888888888,\"#fdca26\"],[1.0,\"#f0f921\"]],\"type\":\"histogram2d\"}],\"histogram2dcontour\":[{\"colorbar\":{\"outlinewidth\":0,\"ticks\":\"\"},\"colorscale\":[[0.0,\"#0d0887\"],[0.1111111111111111,\"#46039f\"],[0.2222222222222222,\"#7201a8\"],[0.3333333333333333,\"#9c179e\"],[0.4444444444444444,\"#bd3786\"],[0.5555555555555556,\"#d8576b\"],[0.6666666666666666,\"#ed7953\"],[0.7777777777777778,\"#fb9f3a\"],[0.8888888888888888,\"#fdca26\"],[1.0,\"#f0f921\"]],\"type\":\"histogram2dcontour\"}],\"mesh3d\":[{\"colorbar\":{\"outlinewidth\":0,\"ticks\":\"\"},\"type\":\"mesh3d\"}],\"parcoords\":[{\"line\":{\"colorbar\":{\"outlinewidth\":0,\"ticks\":\"\"}},\"type\":\"parcoords\"}],\"pie\":[{\"automargin\":true,\"type\":\"pie\"}],\"scatter\":[{\"marker\":{\"colorbar\":{\"outlinewidth\":0,\"ticks\":\"\"}},\"type\":\"scatter\"}],\"scatter3d\":[{\"line\":{\"colorbar\":{\"outlinewidth\":0,\"ticks\":\"\"}},\"marker\":{\"colorbar\":{\"outlinewidth\":0,\"ticks\":\"\"}},\"type\":\"scatter3d\"}],\"scattercarpet\":[{\"marker\":{\"colorbar\":{\"outlinewidth\":0,\"ticks\":\"\"}},\"type\":\"scattercarpet\"}],\"scattergeo\":[{\"marker\":{\"colorbar\":{\"outlinewidth\":0,\"ticks\":\"\"}},\"type\":\"scattergeo\"}],\"scattergl\":[{\"marker\":{\"colorbar\":{\"outlinewidth\":0,\"ticks\":\"\"}},\"type\":\"scattergl\"}],\"scattermapbox\":[{\"marker\":{\"colorbar\":{\"outlinewidth\":0,\"ticks\":\"\"}},\"type\":\"scattermapbox\"}],\"scatterpolar\":[{\"marker\":{\"colorbar\":{\"outlinewidth\":0,\"ticks\":\"\"}},\"type\":\"scatterpolar\"}],\"scatterpolargl\":[{\"marker\":{\"colorbar\":{\"outlinewidth\":0,\"ticks\":\"\"}},\"type\":\"scatterpolargl\"}],\"scatterternary\":[{\"marker\":{\"colorbar\":{\"outlinewidth\":0,\"ticks\":\"\"}},\"type\":\"scatterternary\"}],\"surface\":[{\"colorbar\":{\"outlinewidth\":0,\"ticks\":\"\"},\"colorscale\":[[0.0,\"#0d0887\"],[0.1111111111111111,\"#46039f\"],[0.2222222222222222,\"#7201a8\"],[0.3333333333333333,\"#9c179e\"],[0.4444444444444444,\"#bd3786\"],[0.5555555555555556,\"#d8576b\"],[0.6666666666666666,\"#ed7953\"],[0.7777777777777778,\"#fb9f3a\"],[0.8888888888888888,\"#fdca26\"],[1.0,\"#f0f921\"]],\"type\":\"surface\"}],\"table\":[{\"cells\":{\"fill\":{\"color\":\"#EBF0F8\"},\"line\":{\"color\":\"white\"}},\"header\":{\"fill\":{\"color\":\"#C8D4E3\"},\"line\":{\"color\":\"white\"}},\"type\":\"table\"}]},\"layout\":{\"annotationdefaults\":{\"arrowcolor\":\"#2a3f5f\",\"arrowhead\":0,\"arrowwidth\":1},\"autotypenumbers\":\"strict\",\"coloraxis\":{\"colorbar\":{\"outlinewidth\":0,\"ticks\":\"\"}},\"colorscale\":{\"diverging\":[[0,\"#8e0152\"],[0.1,\"#c51b7d\"],[0.2,\"#de77ae\"],[0.3,\"#f1b6da\"],[0.4,\"#fde0ef\"],[0.5,\"#f7f7f7\"],[0.6,\"#e6f5d0\"],[0.7,\"#b8e186\"],[0.8,\"#7fbc41\"],[0.9,\"#4d9221\"],[1,\"#276419\"]],\"sequential\":[[0.0,\"#0d0887\"],[0.1111111111111111,\"#46039f\"],[0.2222222222222222,\"#7201a8\"],[0.3333333333333333,\"#9c179e\"],[0.4444444444444444,\"#bd3786\"],[0.5555555555555556,\"#d8576b\"],[0.6666666666666666,\"#ed7953\"],[0.7777777777777778,\"#fb9f3a\"],[0.8888888888888888,\"#fdca26\"],[1.0,\"#f0f921\"]],\"sequentialminus\":[[0.0,\"#0d0887\"],[0.1111111111111111,\"#46039f\"],[0.2222222222222222,\"#7201a8\"],[0.3333333333333333,\"#9c179e\"],[0.4444444444444444,\"#bd3786\"],[0.5555555555555556,\"#d8576b\"],[0.6666666666666666,\"#ed7953\"],[0.7777777777777778,\"#fb9f3a\"],[0.8888888888888888,\"#fdca26\"],[1.0,\"#f0f921\"]]},\"colorway\":[\"#636efa\",\"#EF553B\",\"#00cc96\",\"#ab63fa\",\"#FFA15A\",\"#19d3f3\",\"#FF6692\",\"#B6E880\",\"#FF97FF\",\"#FECB52\"],\"font\":{\"color\":\"#2a3f5f\"},\"geo\":{\"bgcolor\":\"white\",\"lakecolor\":\"white\",\"landcolor\":\"#E5ECF6\",\"showlakes\":true,\"showland\":true,\"subunitcolor\":\"white\"},\"hoverlabel\":{\"align\":\"left\"},\"hovermode\":\"closest\",\"mapbox\":{\"style\":\"light\"},\"paper_bgcolor\":\"white\",\"plot_bgcolor\":\"#E5ECF6\",\"polar\":{\"angularaxis\":{\"gridcolor\":\"white\",\"linecolor\":\"white\",\"ticks\":\"\"},\"bgcolor\":\"#E5ECF6\",\"radialaxis\":{\"gridcolor\":\"white\",\"linecolor\":\"white\",\"ticks\":\"\"}},\"scene\":{\"xaxis\":{\"backgroundcolor\":\"#E5ECF6\",\"gridcolor\":\"white\",\"gridwidth\":2,\"linecolor\":\"white\",\"showbackground\":true,\"ticks\":\"\",\"zerolinecolor\":\"white\"},\"yaxis\":{\"backgroundcolor\":\"#E5ECF6\",\"gridcolor\":\"white\",\"gridwidth\":2,\"linecolor\":\"white\",\"showbackground\":true,\"ticks\":\"\",\"zerolinecolor\":\"white\"},\"zaxis\":{\"backgroundcolor\":\"#E5ECF6\",\"gridcolor\":\"white\",\"gridwidth\":2,\"linecolor\":\"white\",\"showbackground\":true,\"ticks\":\"\",\"zerolinecolor\":\"white\"}},\"shapedefaults\":{\"line\":{\"color\":\"#2a3f5f\"}},\"ternary\":{\"aaxis\":{\"gridcolor\":\"white\",\"linecolor\":\"white\",\"ticks\":\"\"},\"baxis\":{\"gridcolor\":\"white\",\"linecolor\":\"white\",\"ticks\":\"\"},\"bgcolor\":\"#E5ECF6\",\"caxis\":{\"gridcolor\":\"white\",\"linecolor\":\"white\",\"ticks\":\"\"}},\"title\":{\"x\":0.05},\"xaxis\":{\"automargin\":true,\"gridcolor\":\"white\",\"linecolor\":\"white\",\"ticks\":\"\",\"title\":{\"standoff\":15},\"zerolinecolor\":\"white\",\"zerolinewidth\":2},\"yaxis\":{\"automargin\":true,\"gridcolor\":\"white\",\"linecolor\":\"white\",\"ticks\":\"\",\"title\":{\"standoff\":15},\"zerolinecolor\":\"white\",\"zerolinewidth\":2}}}},                        {\"responsive\": true}                    ).then(function(){\n",
       "                            \n",
       "var gd = document.getElementById('1baa9595-b695-4981-bda4-43d6a6f7edd6');\n",
       "var x = new MutationObserver(function (mutations, observer) {{\n",
       "        var display = window.getComputedStyle(gd).display;\n",
       "        if (!display || display === 'none') {{\n",
       "            console.log([gd, 'removed!']);\n",
       "            Plotly.purge(gd);\n",
       "            observer.disconnect();\n",
       "        }}\n",
       "}});\n",
       "\n",
       "// Listen for the removal of the full notebook cells\n",
       "var notebookContainer = gd.closest('#notebook-container');\n",
       "if (notebookContainer) {{\n",
       "    x.observe(notebookContainer, {childList: true});\n",
       "}}\n",
       "\n",
       "// Listen for the clearing of the current output cell\n",
       "var outputEl = gd.closest('.output');\n",
       "if (outputEl) {{\n",
       "    x.observe(outputEl, {childList: true});\n",
       "}}\n",
       "\n",
       "                        })                };                });            </script>        </div>"
      ]
     },
     "metadata": {},
     "output_type": "display_data"
    }
   ],
   "source": [
    "go.Figure(data=[go.Scatter(x=df_result.index,y=df_result[\"Computation time\"], mode=\"lines\", hovertemplate='k = %{x}<br>Time = %{y}s<extra></extra>')],\n",
    "         layout={'xaxis_title':\"Length k of a shingling\",\n",
    "                 'yaxis_title':\"Computation time (in s)\",\n",
    "                 'title':\"Computation time depending on the size of a shingling\"})"
   ]
  }
 ],
 "metadata": {
  "kernelspec": {
   "display_name": "Python 3",
   "language": "python",
   "name": "python3"
  },
  "language_info": {
   "codemirror_mode": {
    "name": "ipython",
    "version": 3
   },
   "file_extension": ".py",
   "mimetype": "text/x-python",
   "name": "python",
   "nbconvert_exporter": "python",
   "pygments_lexer": "ipython3",
   "version": "3.8.8"
  }
 },
 "nbformat": 4,
 "nbformat_minor": 5
}
